{
 "cells": [
  {
   "cell_type": "markdown",
   "metadata": {},
   "source": [
    "# Part 1"
   ]
  },
  {
   "cell_type": "code",
   "execution_count": 1,
   "metadata": {},
   "outputs": [
    {
     "name": "stderr",
     "output_type": "stream",
     "text": [
      "/Users/Ariel/Desktop/NYU/Summer 2021/Policy and Data Studio/Repos/Ariel_Medex/env/lib/python3.9/site-packages/statsmodels/tools/_testing.py:19: FutureWarning: pandas.util.testing is deprecated. Use the functions in the public API at pandas.testing instead.\n",
      "  import pandas.util.testing as tm\n"
     ]
    }
   ],
   "source": [
    "import pandas as pd\n",
    "import numpy as np\n",
    "from sklearn.linear_model import LinearRegression\n",
    "import statsmodels.api as sm\n",
    "import matplotlib as mplib\n",
    "import matplotlib.pyplot as plt\n",
    "import seaborn as sns\n",
    "import PandaSurvey\n",
    "import weightedcalcs as wc"
   ]
  },
  {
   "cell_type": "markdown",
   "metadata": {},
   "source": [
    "# Dowloading the Data"
   ]
  },
  {
   "cell_type": "markdown",
   "metadata": {},
   "source": [
    "[Link to csv file](https://www.dropbox.com/s/wuukgsjwrxzr89h/001usa_00003.csv?dl=0) - save in the base directory of your local copy of the repository"
   ]
  },
  {
   "cell_type": "markdown",
   "metadata": {},
   "source": [
    "# Reading in the Data"
   ]
  },
  {
   "cell_type": "code",
   "execution_count": 4,
   "metadata": {},
   "outputs": [],
   "source": [
    "df = pd.read_csv('001usa_00003.csv')"
   ]
  },
  {
   "cell_type": "markdown",
   "metadata": {},
   "source": [
    "## Data Overview"
   ]
  },
  {
   "cell_type": "code",
   "execution_count": 5,
   "metadata": {
    "scrolled": true
   },
   "outputs": [
    {
     "data": {
      "text/plain": [
       "Index(['YEAR', 'SAMPLE', 'SERIAL', 'CBSERIAL', 'HHWT', 'CLUSTER', 'CPI99',\n",
       "       'STATEICP', 'COUNTYICP', 'PUMA', 'STRATA', 'GQ', 'PERNUM', 'PERWT',\n",
       "       'SEX', 'AGE', 'RACE', 'RACED', 'HISPAN', 'HISPAND', 'CITIZEN',\n",
       "       'YRSUSA2', 'HINSEMP', 'HINSPUR', 'HINSCAID', 'EMPSTAT', 'EMPSTATD',\n",
       "       'INCTOT', 'POVERTY'],\n",
       "      dtype='object')"
      ]
     },
     "execution_count": 5,
     "metadata": {},
     "output_type": "execute_result"
    }
   ],
   "source": [
    "df.columns"
   ]
  },
  {
   "cell_type": "code",
   "execution_count": 6,
   "metadata": {},
   "outputs": [
    {
     "data": {
      "text/plain": [
       "<bound method NDFrame.describe of         YEAR  SAMPLE  SERIAL       CBSERIAL   HHWT        CLUSTER  CPI99  \\\n",
       "0       2009  200901  816419             89  150.0  2009008164191  0.777   \n",
       "1       2009  200901  816422            147  213.0  2009008164221  0.777   \n",
       "2       2009  200901  816422            147  213.0  2009008164221  0.777   \n",
       "3       2009  200901  816422            147  213.0  2009008164221  0.777   \n",
       "4       2009  200901  816422            147  213.0  2009008164221  0.777   \n",
       "...      ...     ...     ...            ...    ...            ...    ...   \n",
       "237142  2019  201901  923328  2019001412405   72.0  2019009233281  0.652   \n",
       "237143  2019  201901  923328  2019001412405   72.0  2019009233281  0.652   \n",
       "237144  2019  201901  923328  2019001412405   72.0  2019009233281  0.652   \n",
       "237145  2019  201901  923328  2019001412405   72.0  2019009233281  0.652   \n",
       "237146  2019  201901  923331  2019001412438   94.0  2019009233311  0.652   \n",
       "\n",
       "        STATEICP  COUNTYICP  PUMA  ...  HISPAND  CITIZEN  YRSUSA2  HINSEMP  \\\n",
       "0             13        810  4101  ...        0        2        5        2   \n",
       "1             13        470  4015  ...        0        3        2        1   \n",
       "2             13        470  4015  ...        0        3        2        1   \n",
       "3             13        470  4015  ...        0        3        2        1   \n",
       "4             13        470  4015  ...        0        3        2        1   \n",
       "...          ...        ...   ...  ...      ...      ...      ...      ...   \n",
       "237142        13        470  4003  ...        0        0        0        1   \n",
       "237143        13        470  4003  ...        0        0        0        1   \n",
       "237144        13        470  4003  ...        0        0        0        1   \n",
       "237145        13        470  4003  ...        0        0        0        1   \n",
       "237146        13         50  3706  ...        0        0        0        1   \n",
       "\n",
       "        HINSPUR  HINSCAID  EMPSTAT  EMPSTATD   INCTOT  POVERTY  \n",
       "0             1         2        1        10     3800       33  \n",
       "1             1         2        1        10    15000       93  \n",
       "2             1         2        3        30        0       93  \n",
       "3             1         2        0         0        0       93  \n",
       "4             1         2        0         0  9999999       93  \n",
       "...         ...       ...      ...       ...      ...      ...  \n",
       "237142        1         2        3        30        0       53  \n",
       "237143        1         2        0         0  9999999       53  \n",
       "237144        1         2        0         0  9999999       53  \n",
       "237145        1         2        0         0  9999999       53  \n",
       "237146        1         2        1        10     1400       54  \n",
       "\n",
       "[237147 rows x 29 columns]>"
      ]
     },
     "execution_count": 6,
     "metadata": {},
     "output_type": "execute_result"
    }
   ],
   "source": [
    "df.describe"
   ]
  },
  {
   "cell_type": "code",
   "execution_count": 7,
   "metadata": {
    "scrolled": true
   },
   "outputs": [
    {
     "data": {
      "text/plain": [
       "Index(['YEAR', 'SAMPLE', 'SERIAL', 'CBSERIAL', 'HHWT', 'CLUSTER', 'CPI99',\n",
       "       'STATEICP', 'COUNTYICP', 'PUMA', 'STRATA', 'GQ', 'PERNUM', 'PERWT',\n",
       "       'SEX', 'AGE', 'RACE', 'RACED', 'HISPAN', 'HISPAND', 'CITIZEN',\n",
       "       'YRSUSA2', 'HINSEMP', 'HINSPUR', 'HINSCAID', 'EMPSTAT', 'EMPSTATD',\n",
       "       'INCTOT', 'POVERTY'],\n",
       "      dtype='object')"
      ]
     },
     "execution_count": 7,
     "metadata": {},
     "output_type": "execute_result"
    }
   ],
   "source": [
    "df.columns"
   ]
  },
  {
   "cell_type": "markdown",
   "metadata": {},
   "source": [
    "# Data Cleaning for Income"
   ]
  },
  {
   "cell_type": "markdown",
   "metadata": {},
   "source": [
    "## Removing Null Values"
   ]
  },
  {
   "cell_type": "code",
   "execution_count": 8,
   "metadata": {
    "scrolled": true
   },
   "outputs": [],
   "source": [
    "df[\"INCTOT\"].replace({9999999: np.nan}, inplace=True) #removing coded variable for no income information"
   ]
  },
  {
   "cell_type": "code",
   "execution_count": 9,
   "metadata": {},
   "outputs": [],
   "source": [
    "df1 = df[df['INCTOT'].notna()]"
   ]
  },
  {
   "cell_type": "markdown",
   "metadata": {},
   "source": [
    "## Adding Adjusted Income Variable for Inflation"
   ]
  },
  {
   "cell_type": "code",
   "execution_count": 10,
   "metadata": {
    "scrolled": true
   },
   "outputs": [
    {
     "name": "stderr",
     "output_type": "stream",
     "text": [
      "<ipython-input-10-a1bc04c37851>:1: SettingWithCopyWarning: \n",
      "A value is trying to be set on a copy of a slice from a DataFrame.\n",
      "Try using .loc[row_indexer,col_indexer] = value instead\n",
      "\n",
      "See the caveats in the documentation: https://pandas.pydata.org/pandas-docs/stable/user_guide/indexing.html#returning-a-view-versus-a-copy\n",
      "  df1['ADJINC'] = df1['INCTOT']*df1['CPI99'] # Adjusting all dollars to 1999 dollars to account for inflation\n"
     ]
    }
   ],
   "source": [
    "df1['ADJINC'] = df1['INCTOT']*df1['CPI99'] # Adjusting all dollars to 1999 dollars to account for inflation"
   ]
  },
  {
   "cell_type": "markdown",
   "metadata": {},
   "source": [
    "# New Dataset for Export"
   ]
  },
  {
   "cell_type": "code",
   "execution_count": 11,
   "metadata": {},
   "outputs": [],
   "source": [
    "df1.to_csv('002usa_00003.csv')"
   ]
  },
  {
   "cell_type": "markdown",
   "metadata": {},
   "source": [
    "Exporting Dataset for Part 3"
   ]
  },
  {
   "cell_type": "code",
   "execution_count": 12,
   "metadata": {},
   "outputs": [],
   "source": [
    "df1.to_csv('003usa_00003.csv')"
   ]
  }
 ],
 "metadata": {
  "kernelspec": {
   "display_name": "Python 3",
   "language": "python",
   "name": "python3"
  },
  "language_info": {
   "codemirror_mode": {
    "name": "ipython",
    "version": 3
   },
   "file_extension": ".py",
   "mimetype": "text/x-python",
   "name": "python",
   "nbconvert_exporter": "python",
   "pygments_lexer": "ipython3",
   "version": "3.9.5"
  }
 },
 "nbformat": 4,
 "nbformat_minor": 4
}
