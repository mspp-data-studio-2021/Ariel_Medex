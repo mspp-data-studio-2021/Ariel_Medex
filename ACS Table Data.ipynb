{
 "cells": [
  {
   "cell_type": "code",
   "execution_count": 1,
   "metadata": {},
   "outputs": [
    {
     "name": "stderr",
     "output_type": "stream",
     "text": [
      "/Users/Ariel/Desktop/NYU/Summer 2021/Policy and Data Studio/Repos/Ariel_Medex/env/lib/python3.9/site-packages/statsmodels/tools/_testing.py:19: FutureWarning: pandas.util.testing is deprecated. Use the functions in the public API at pandas.testing instead.\n",
      "  import pandas.util.testing as tm\n"
     ]
    }
   ],
   "source": [
    "import pandas as pd\n",
    "import numpy as np\n",
    "from sklearn.linear_model import LinearRegression\n",
    "import statsmodels.api as sm\n",
    "import matplotlib as mplib\n",
    "import matplotlib.pyplot as plt\n",
    "import seaborn as sns"
   ]
  },
  {
   "cell_type": "code",
   "execution_count": 8,
   "metadata": {},
   "outputs": [],
   "source": [
    "df = pd.read_csv('/Users/Ariel/Desktop/Data/Cleaned Data/ACS_Complete_Clean.csv')"
   ]
  },
  {
   "cell_type": "code",
   "execution_count": 3,
   "metadata": {},
   "outputs": [
    {
     "data": {
      "text/plain": [
       "Index(['Borough', 'Average Income, M Yes', 'Average Income M, No',\n",
       "       'Population On Medicaid', 'Population Not Medicaid',\n",
       "       'White Yes Medicaid', 'White No Medicaid', 'Black Yes Medicaid',\n",
       "       'Black No Medicaid', 'Asian Yes Medicaid', 'Asian No Medicaid',\n",
       "       'Two or More Races Yes Medicaid', 'Two or More Races No Medicaid',\n",
       "       'Average Age Yes Medicaid', 'Average Age No Medicaid',\n",
       "       'Medicaid and SNAP', 'Medicaid No SNAP', 'Medicaid by Expansion',\n",
       "       'Year'],\n",
       "      dtype='object')"
      ]
     },
     "execution_count": 3,
     "metadata": {},
     "output_type": "execute_result"
    }
   ],
   "source": [
    "df.columns"
   ]
  },
  {
   "cell_type": "code",
   "execution_count": 4,
   "metadata": {},
   "outputs": [
    {
     "data": {
      "text/plain": [
       "<bound method NDFrame.describe of           Borough  Average Income, M Yes  Average Income M, No  \\\n",
       "0           Bronx                 4229.7               31876.9   \n",
       "1       Manhattan                20898.6               84734.2   \n",
       "2   Staten Island                 8448.0               44456.7   \n",
       "3        Brooklyn                 6378.3               48417.2   \n",
       "4          Queens                 8967.4               40524.9   \n",
       "5           Bronx                 3587.8               30630.6   \n",
       "6       Manhattan                13729.8               80346.2   \n",
       "7   Staten Island                 6536.0               38675.3   \n",
       "8        Brooklyn                 5480.0               45008.9   \n",
       "9          Queens                 7801.4               37436.5   \n",
       "10          Bronx                   61.1               23666.1   \n",
       "11      Manhattan                 8933.6               61838.7   \n",
       "12  Staten Island                 6385.0               31158.0   \n",
       "13       Brooklyn                 1134.2               30294.8   \n",
       "14         Queens                 2241.5               28997.8   \n",
       "15          Bronx                  882.0               22645.9   \n",
       "16      Manhattan                 9804.0               64907.0   \n",
       "17  Staten Island                 1747.0               34198.3   \n",
       "18       Brooklyn                 2272.6               33583.7   \n",
       "19         Queens                 4296.8               30725.4   \n",
       "20          Bronx                 1443.2               24772.1   \n",
       "21      Manhattan                10215.4               67970.8   \n",
       "22  Staten Island                  964.3               33039.0   \n",
       "23       Brooklyn                 2761.3               33541.0   \n",
       "24         Queens                 3707.4               31474.3   \n",
       "25          Bronx                 2573.4               26553.4   \n",
       "26      Manhattan                10860.0               72968.3   \n",
       "27  Staten Island                 3860.3               34869.7   \n",
       "28       Brooklyn                 3544.3               36917.3   \n",
       "29         Queens                 3909.3               33426.1   \n",
       "30          Bronx                 3032.4               26559.3   \n",
       "31      Manhattan                15368.1               75441.2   \n",
       "32  Staten Island                 4492.3               37430.7   \n",
       "33       Brooklyn                 4671.6               39087.8   \n",
       "34         Queens                 5833.3               34000.5   \n",
       "35          Bronx                 3771.1               28370.8   \n",
       "36      Manhattan                13353.1               79213.2   \n",
       "37  Staten Island                 6327.7               39505.7   \n",
       "38       Brooklyn                 4878.2               40519.7   \n",
       "39         Queens                 6788.5               35657.4   \n",
       "\n",
       "    Population On Medicaid  Population Not Medicaid  White Yes Medicaid  \\\n",
       "0                   676556                   740655            130773.0   \n",
       "1                   343560                  1285542             95286.0   \n",
       "2                   441963                  1663693             59752.0   \n",
       "3                   941099                  1618472            364568.0   \n",
       "4                   664385                  1589221            193109.0   \n",
       "5                   710999                   721884            130594.0   \n",
       "6                   379249                  1248500             94391.0   \n",
       "7                    94870                   381484             50259.0   \n",
       "8                   950514                  1632151            357185.0   \n",
       "9                   690116                  1587640            200934.0   \n",
       "10                  625863                   783324                 NaN   \n",
       "11                  355475                  1263554                 NaN   \n",
       "12                   81742                   388836                 NaN   \n",
       "13                  904920                  1660300                 NaN   \n",
       "14                  609003                  1664214                 NaN   \n",
       "15                  632431                   788209                 NaN   \n",
       "16                  350683                  1274722                 NaN   \n",
       "17                   95974                   376748                 NaN   \n",
       "18                  917938                  1674810                 NaN   \n",
       "19                  618186                  1677662                 NaN   \n",
       "20                  675119                   762539                 NaN   \n",
       "21                  352464                  1285265                 NaN   \n",
       "22                   94687                   378531                 NaN   \n",
       "23                  940459                  1681439                 NaN   \n",
       "24                  649190                  1672540                 NaN   \n",
       "25                  724880                   730787                 NaN   \n",
       "26                  398100                  1246084                 NaN   \n",
       "27                  106151                   368446                 NaN   \n",
       "28                  971567                  1665178                 NaN   \n",
       "29                  684078                  1656667                 NaN   \n",
       "30                  727268                   729493                 NaN   \n",
       "31                  409242                  1233574                 NaN   \n",
       "32                   94488                   381346                 NaN   \n",
       "33                  998434                  1630168                 NaN   \n",
       "34                  716749                  1617301                 NaN   \n",
       "35                  735242                   734687                 NaN   \n",
       "36                  417937                  1247560                 NaN   \n",
       "37                  109325                   369561                 NaN   \n",
       "38                  968377                  1681627                 NaN   \n",
       "39                  723463                  1635027                 NaN   \n",
       "\n",
       "    White No Medicaid  Black Yes Medicaid  Black No Medicaid  \\\n",
       "0            191251.0            544969.0           253094.0   \n",
       "1            830559.0             95610.0           138912.0   \n",
       "2            292125.0             16146.0            29639.0   \n",
       "3            751589.0            310166.0           508185.0   \n",
       "4            638204.0            117677.0           296491.0   \n",
       "5            186332.0            241320.0           270353.0   \n",
       "6            804272.0             98876.0           136814.0   \n",
       "7            295877.0             17093.0            30459.0   \n",
       "8            764411.0            307260.0           520068.0   \n",
       "9            649251.0            113238.0           305747.0   \n",
       "10                NaN                 NaN                NaN   \n",
       "11                NaN                 NaN                NaN   \n",
       "12                NaN                 NaN                NaN   \n",
       "13                NaN                 NaN                NaN   \n",
       "14                NaN                 NaN                NaN   \n",
       "15                NaN                 NaN                NaN   \n",
       "16                NaN                 NaN                NaN   \n",
       "17                NaN                 NaN                NaN   \n",
       "18                NaN                 NaN                NaN   \n",
       "19                NaN                 NaN                NaN   \n",
       "20                NaN                 NaN                NaN   \n",
       "21                NaN                 NaN                NaN   \n",
       "22                NaN                 NaN                NaN   \n",
       "23                NaN                 NaN                NaN   \n",
       "24                NaN                 NaN                NaN   \n",
       "25                NaN                 NaN                NaN   \n",
       "26                NaN                 NaN                NaN   \n",
       "27                NaN                 NaN                NaN   \n",
       "28                NaN                 NaN                NaN   \n",
       "29                NaN                 NaN                NaN   \n",
       "30                NaN                 NaN                NaN   \n",
       "31                NaN                 NaN                NaN   \n",
       "32                NaN                 NaN                NaN   \n",
       "33                NaN                 NaN                NaN   \n",
       "34                NaN                 NaN                NaN   \n",
       "35                NaN                 NaN                NaN   \n",
       "36                NaN                 NaN                NaN   \n",
       "37                NaN                 NaN                NaN   \n",
       "38                NaN                 NaN                NaN   \n",
       "39                NaN                 NaN                NaN   \n",
       "\n",
       "    Asian Yes Medicaid  Asian No Medicaid  Two or More Races Yes Medicaid  \\\n",
       "0              21243.0            31485.0                         25108.0   \n",
       "1              41264.0           162677.0                         19264.0   \n",
       "2              16049.0            36203.0                          1000.0   \n",
       "3             136547.0           166510.0                        320238.0   \n",
       "4             203212.0           387340.0                         20801.0   \n",
       "5              21646.0            34422.0                         31174.0   \n",
       "6              44954.0           154731.0                         27520.0   \n",
       "7              14793.0            33125.0                          3708.0   \n",
       "8             128414.0           170917.0                         35319.0   \n",
       "9             213549.0           373976.0                         22582.0   \n",
       "10                 NaN                NaN                             NaN   \n",
       "11                 NaN                NaN                             NaN   \n",
       "12                 NaN                NaN                             NaN   \n",
       "13                 NaN                NaN                             NaN   \n",
       "14                 NaN                NaN                             NaN   \n",
       "15                 NaN                NaN                             NaN   \n",
       "16                 NaN                NaN                             NaN   \n",
       "17                 NaN                NaN                             NaN   \n",
       "18                 NaN                NaN                             NaN   \n",
       "19                 NaN                NaN                             NaN   \n",
       "20                 NaN                NaN                             NaN   \n",
       "21                 NaN                NaN                             NaN   \n",
       "22                 NaN                NaN                             NaN   \n",
       "23                 NaN                NaN                             NaN   \n",
       "24                 NaN                NaN                             NaN   \n",
       "25                 NaN                NaN                             NaN   \n",
       "26                 NaN                NaN                             NaN   \n",
       "27                 NaN                NaN                             NaN   \n",
       "28                 NaN                NaN                             NaN   \n",
       "29                 NaN                NaN                             NaN   \n",
       "30                 NaN                NaN                             NaN   \n",
       "31                 NaN                NaN                             NaN   \n",
       "32                 NaN                NaN                             NaN   \n",
       "33                 NaN                NaN                             NaN   \n",
       "34                 NaN                NaN                             NaN   \n",
       "35                 NaN                NaN                             NaN   \n",
       "36                 NaN                NaN                             NaN   \n",
       "37                 NaN                NaN                             NaN   \n",
       "38                 NaN                NaN                             NaN   \n",
       "39                 NaN                NaN                             NaN   \n",
       "\n",
       "    Two or More Races No Medicaid  Average Age Yes Medicaid  \\\n",
       "0                         31968.0                      33.4   \n",
       "1                         49111.0                      47.0   \n",
       "2                          8411.0                      36.3   \n",
       "3                         62429.0                      34.7   \n",
       "4                         59815.0                      37.3   \n",
       "5                         30972.0                      33.5   \n",
       "6                         55166.0                      46.4   \n",
       "7                          9708.0                      35.0   \n",
       "8                         60368.0                      34.0   \n",
       "9                         62222.0                      36.9   \n",
       "10                            NaN                       NaN   \n",
       "11                            NaN                       NaN   \n",
       "12                            NaN                       NaN   \n",
       "13                            NaN                       NaN   \n",
       "14                            NaN                       NaN   \n",
       "15                            NaN                       NaN   \n",
       "16                            NaN                       NaN   \n",
       "17                            NaN                       NaN   \n",
       "18                            NaN                       NaN   \n",
       "19                            NaN                       NaN   \n",
       "20                            NaN                       NaN   \n",
       "21                            NaN                       NaN   \n",
       "22                            NaN                       NaN   \n",
       "23                            NaN                       NaN   \n",
       "24                            NaN                       NaN   \n",
       "25                            NaN                       NaN   \n",
       "26                            NaN                       NaN   \n",
       "27                            NaN                       NaN   \n",
       "28                            NaN                       NaN   \n",
       "29                            NaN                       NaN   \n",
       "30                            NaN                       NaN   \n",
       "31                            NaN                       NaN   \n",
       "32                            NaN                       NaN   \n",
       "33                            NaN                       NaN   \n",
       "34                            NaN                       NaN   \n",
       "35                            NaN                       NaN   \n",
       "36                            NaN                       NaN   \n",
       "37                            NaN                       NaN   \n",
       "38                            NaN                       NaN   \n",
       "39                            NaN                       NaN   \n",
       "\n",
       "    Average Age No Medicaid  Medicaid and SNAP  Medicaid No SNAP  \\\n",
       "0                      40.1           392952.0          283604.0   \n",
       "1                      39.1           168214.0          175346.0   \n",
       "2                      41.3            31234.0           67169.0   \n",
       "3                      39.6           447455.0          493644.0   \n",
       "4                      41.5           196809.0          467576.0   \n",
       "5                      39.7           439636.0          271363.0   \n",
       "6                      39.8           177981.0          201268.0   \n",
       "7                      41.0            35226.0           59644.0   \n",
       "8                      39.7           491237.0          459277.0   \n",
       "9                      41.1           220501.0          469615.0   \n",
       "10                      NaN                NaN               NaN   \n",
       "11                      NaN                NaN               NaN   \n",
       "12                      NaN                NaN               NaN   \n",
       "13                      NaN                NaN               NaN   \n",
       "14                      NaN                NaN               NaN   \n",
       "15                      NaN                NaN               NaN   \n",
       "16                      NaN                NaN               NaN   \n",
       "17                      NaN                NaN               NaN   \n",
       "18                      NaN                NaN               NaN   \n",
       "19                      NaN                NaN               NaN   \n",
       "20                      NaN                NaN               NaN   \n",
       "21                      NaN                NaN               NaN   \n",
       "22                      NaN                NaN               NaN   \n",
       "23                      NaN                NaN               NaN   \n",
       "24                      NaN                NaN               NaN   \n",
       "25                      NaN                NaN               NaN   \n",
       "26                      NaN                NaN               NaN   \n",
       "27                      NaN                NaN               NaN   \n",
       "28                      NaN                NaN               NaN   \n",
       "29                      NaN                NaN               NaN   \n",
       "30                      NaN                NaN               NaN   \n",
       "31                      NaN                NaN               NaN   \n",
       "32                      NaN                NaN               NaN   \n",
       "33                      NaN                NaN               NaN   \n",
       "34                      NaN                NaN               NaN   \n",
       "35                      NaN                NaN               NaN   \n",
       "36                      NaN                NaN               NaN   \n",
       "37                      NaN                NaN               NaN   \n",
       "38                      NaN                NaN               NaN   \n",
       "39                      NaN                NaN               NaN   \n",
       "\n",
       "    Medicaid by Expansion  Year  \n",
       "0                 28091.0  2019  \n",
       "1                 26392.0  2019  \n",
       "2                  6984.0  2019  \n",
       "3                 42649.0  2019  \n",
       "4                 34722.0  2019  \n",
       "5                 27344.0  2018  \n",
       "6                 25571.0  2018  \n",
       "7                  8908.0  2018  \n",
       "8                 46267.0  2018  \n",
       "9                 33452.0  2018  \n",
       "10                    NaN  2012  \n",
       "11                    NaN  2012  \n",
       "12                    NaN  2012  \n",
       "13                    NaN  2012  \n",
       "14                    NaN  2012  \n",
       "15                    NaN  2013  \n",
       "16                    NaN  2013  \n",
       "17                    NaN  2013  \n",
       "18                    NaN  2013  \n",
       "19                    NaN  2013  \n",
       "20                    NaN  2014  \n",
       "21                    NaN  2014  \n",
       "22                    NaN  2014  \n",
       "23                    NaN  2014  \n",
       "24                    NaN  2014  \n",
       "25                    NaN  2015  \n",
       "26                    NaN  2015  \n",
       "27                    NaN  2015  \n",
       "28                    NaN  2015  \n",
       "29                    NaN  2015  \n",
       "30                    NaN  2016  \n",
       "31                    NaN  2016  \n",
       "32                    NaN  2016  \n",
       "33                    NaN  2016  \n",
       "34                    NaN  2016  \n",
       "35                    NaN  2017  \n",
       "36                    NaN  2017  \n",
       "37                    NaN  2017  \n",
       "38                    NaN  2017  \n",
       "39                    NaN  2017  >"
      ]
     },
     "execution_count": 4,
     "metadata": {},
     "output_type": "execute_result"
    }
   ],
   "source": [
    "df.describe"
   ]
  },
  {
   "cell_type": "code",
   "execution_count": 9,
   "metadata": {},
   "outputs": [
    {
     "data": {
      "image/png": "[encoded data removed]",
      "text/plain": [
       "<Figure size 432x288 with 1 Axes>"
      ]
     },
     "metadata": {
      "needs_background": "light"
     },
     "output_type": "display_data"
    }
   ],
   "source": [
    "sns.barplot(x='Borough', y='Average Income, M Yes', hue='Year', data=df)\n",
    "plt.ylabel('Average Income for Medicaid Recipients')\n",
    "plt.xlabel('NYC Borough')\n",
    "plt.title('Average Income of Medicaid Recipients by Borough')\n",
    "plt.savefig('Average Income Medicaid Population 2012-2019.png')"
   ]
  },
  {
   "cell_type": "code",
   "execution_count": 10,
   "metadata": {},
   "outputs": [
    {
     "data": {
      "image/png": "[encoded data removed]",
      "text/plain": [
       "<Figure size 432x288 with 1 Axes>"
      ]
     },
     "metadata": {
      "needs_background": "light"
     },
     "output_type": "display_data"
    }
   ],
   "source": [
    "sns.barplot(x='Borough', y='Population On Medicaid', hue='Year', data=df)\n",
    "plt.ylabel('Medicaid Recipients')\n",
    "plt.xlabel('NYC Borough')\n",
    "plt.title('Number Medicaid Recipients by Borough')\n",
    "plt.legend(bbox_to_anchor=(1.05, 1), loc=2, borderaxespad=0.)\n",
    "plt.savefig('Medicaid Population 2012-2019.png', bbox_inches='tight')"
   ]
  },
  {
   "cell_type": "code",
   "execution_count": 80,
   "metadata": {},
   "outputs": [
    {
     "data": {
      "text/plain": [
       "Text(0.5, 1.0, 'Average Income of Medicaid Recipients by Borough')"
      ]
     },
     "execution_count": 80,
     "metadata": {},
     "output_type": "execute_result"
    },
    {
     "data": {
      "image/png": "[encoded data removed]",
      "text/plain": [
       "<Figure size 432x288 with 1 Axes>"
      ]
     },
     "metadata": {
      "needs_background": "light"
     },
     "output_type": "display_data"
    }
   ],
   "source": [
    "sns.barplot(x='Borough', y='Average Income M, No', hue='Year', data=df)\n",
    "plt.ylabel('Average Income for Medicaid Recipients')\n",
    "plt.xlabel('NYC Borough')\n",
    "plt.title('Average Income of Medicaid Recipients by Borough')"
   ]
  },
  {
   "cell_type": "code",
   "execution_count": 7,
   "metadata": {},
   "outputs": [
    {
     "data": {
      "text/plain": [
       "Text(0.5, 1.0, 'Count of Medicaid Recipients through Expansion by Borough')"
      ]
     },
     "execution_count": 7,
     "metadata": {},
     "output_type": "execute_result"
    },
    {
     "data": {
      "image/png": "[encoded data removed]",
      "text/plain": [
       "<Figure size 432x288 with 1 Axes>"
      ]
     },
     "metadata": {
      "needs_background": "light"
     },
     "output_type": "display_data"
    }
   ],
   "source": [
    "sns.barplot(x='Borough', y='Medicaid by Expansion', hue='Year', data=df)\n",
    "plt.ylabel('Medicaid Recipients')\n",
    "plt.xlabel('NYC Borough')\n",
    "plt.title('Count of Medicaid Recipients through Expansion by Borough')"
   ]
  },
  {
   "cell_type": "code",
   "execution_count": 25,
   "metadata": {},
   "outputs": [],
   "source": [
    "def plotter(year):\n",
    "    # query database\n",
    "    # load into pandas\n",
    "    # clean\n",
    "    # plot\n",
    "    # save plots"
   ]
  },
  {
   "cell_type": "code",
   "execution_count": 26,
   "metadata": {},
   "outputs": [
    {
     "data": {
      "text/plain": [
       "81"
      ]
     },
     "execution_count": 26,
     "metadata": {},
     "output_type": "execute_result"
    }
   ],
   "source": [
    "square(9)"
   ]
  },
  {
   "cell_type": "code",
   "execution_count": 27,
   "metadata": {},
   "outputs": [],
   "source": [
    "years = range(2002,2018)"
   ]
  },
  {
   "cell_type": "code",
   "execution_count": 29,
   "metadata": {},
   "outputs": [
    {
     "name": "stdout",
     "output_type": "stream",
     "text": [
      "2002\n",
      "2003\n",
      "2004\n",
      "2005\n",
      "2006\n",
      "2007\n",
      "2008\n",
      "2009\n",
      "2010\n",
      "2011\n",
      "2012\n",
      "2013\n",
      "2014\n",
      "2015\n",
      "2016\n",
      "2017\n"
     ]
    }
   ],
   "source": [
    "for year in years:\n",
    "    plotter(year)"
   ]
  },
  {
   "cell_type": "code",
   "execution_count": null,
   "metadata": {},
   "outputs": [],
   "source": []
  }
 ],
 "metadata": {
  "kernelspec": {
   "display_name": "env",
   "language": "python",
   "name": "env"
  },
  "language_info": {
   "codemirror_mode": {
    "name": "ipython",
    "version": 3
   },
   "file_extension": ".py",
   "mimetype": "text/x-python",
   "name": "python",
   "nbconvert_exporter": "python",
   "pygments_lexer": "ipython3",
   "version": "3.9.5"
  }
 },
 "nbformat": 4,
 "nbformat_minor": 4
}
