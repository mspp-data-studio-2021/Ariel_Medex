{
 "cells": [
  {
   "cell_type": "code",
   "execution_count": 55,
   "metadata": {},
   "outputs": [],
   "source": [
    "import pandas as pd\n",
    "import numpy as np\n",
    "from sklearn.linear_model import LinearRegression\n",
    "import statsmodels.api as sm\n",
    "import matplotlib as mplib\n",
    "import matplotlib.pyplot as plt\n",
    "import seaborn as sns"
   ]
  },
  {
   "cell_type": "code",
   "execution_count": 74,
   "metadata": {},
   "outputs": [],
   "source": [
    "df = pd.read_csv('/Users/Ariel/Desktop/Data/Cleaned Data/ACS_Complete_Clean.csv')"
   ]
  },
  {
   "cell_type": "code",
   "execution_count": 47,
   "metadata": {},
   "outputs": [
    {
     "data": {
      "text/plain": [
       "Index(['Borough', 'Average Income, M Yes', 'Average Income M, No',\n",
       "       'Population On Medicaid', 'Population Not Medicaid',\n",
       "       'White Yes Medicaid', 'White No Medicaid', 'Black Yes Medicaid',\n",
       "       'Black No Medicaid', 'Asian Yes Medicaid', 'Asian No Medicaid',\n",
       "       'Two or More Races Yes Medicaid', 'Two or More Races No Medicaid',\n",
       "       'Average Age Yes Medicaid', 'Average Age No Medicaid',\n",
       "       'Medicaid and SNAP', 'Medicaid No SNAP', 'Medicaid by Expansion',\n",
       "       'Year'],\n",
       "      dtype='object')"
      ]
     },
     "execution_count": 47,
     "metadata": {},
     "output_type": "execute_result"
    }
   ],
   "source": [
    "df.columns"
   ]
  },
  {
   "cell_type": "code",
   "execution_count": 48,
   "metadata": {},
   "outputs": [
    {
     "data": {
      "text/plain": [
       "<bound method NDFrame.describe of          Borough  Average Income, M Yes  Average Income M, No  \\\n",
       "0          Bronx                 4229.7               31876.9   \n",
       "1      Manhattan                20898.6               84734.2   \n",
       "2  Staten Island                 8448.0               44456.7   \n",
       "3       Brooklyn                 6378.3               48417.2   \n",
       "4         Queens                 8967.4               40524.9   \n",
       "5          Bronx                 3587.8               30630.6   \n",
       "6      Manhattan                13729.8               80346.2   \n",
       "7  Staten Island                 6536.0               38675.3   \n",
       "8       Brooklyn                 5480.0               45008.9   \n",
       "9         Queens                 7801.4               37436.5   \n",
       "\n",
       "   Population On Medicaid  Population Not Medicaid  White Yes Medicaid  \\\n",
       "0                  676556                   740655              130773   \n",
       "1                  343560                  1285542               95286   \n",
       "2                  441963                  1663693               59752   \n",
       "3                  941099                  1618472              364568   \n",
       "4                  664385                  1589221              193109   \n",
       "5                  710999                   721884              130594   \n",
       "6                  379249                  1248500               94391   \n",
       "7                   94870                   381484               50259   \n",
       "8                  950514                  1632151              357185   \n",
       "9                  690116                  1587640              200934   \n",
       "\n",
       "   White No Medicaid  Black Yes Medicaid  Black No Medicaid  \\\n",
       "0             191251              544969             253094   \n",
       "1             830559               95610             138912   \n",
       "2             292125               16146              29639   \n",
       "3             751589              310166             508185   \n",
       "4             638204              117677             296491   \n",
       "5             186332              241320             270353   \n",
       "6             804272               98876             136814   \n",
       "7             295877               17093              30459   \n",
       "8             764411              307260             520068   \n",
       "9             649251              113238             305747   \n",
       "\n",
       "   Asian Yes Medicaid  Asian No Medicaid  Two or More Races Yes Medicaid  \\\n",
       "0               21243              31485                           25108   \n",
       "1               41264             162677                           19264   \n",
       "2               16049              36203                            1000   \n",
       "3              136547             166510                          320238   \n",
       "4              203212             387340                           20801   \n",
       "5               21646              34422                           31174   \n",
       "6               44954             154731                           27520   \n",
       "7               14793              33125                            3708   \n",
       "8              128414             170917                           35319   \n",
       "9              213549             373976                           22582   \n",
       "\n",
       "   Two or More Races No Medicaid  Average Age Yes Medicaid  \\\n",
       "0                          31968                      33.4   \n",
       "1                          49111                      47.0   \n",
       "2                           8411                      36.3   \n",
       "3                          62429                      34.7   \n",
       "4                          59815                      37.3   \n",
       "5                          30972                      33.5   \n",
       "6                          55166                      46.4   \n",
       "7                           9708                      35.0   \n",
       "8                          60368                      34.0   \n",
       "9                          62222                      36.9   \n",
       "\n",
       "   Average Age No Medicaid  Medicaid and SNAP  Medicaid No SNAP  \\\n",
       "0                     40.1             392952            283604   \n",
       "1                     39.1             168214            175346   \n",
       "2                     41.3              31234             67169   \n",
       "3                     39.6             447455            493644   \n",
       "4                     41.5             196809            467576   \n",
       "5                     39.7             439636            271363   \n",
       "6                     39.8             177981            201268   \n",
       "7                     41.0              35226             59644   \n",
       "8                     39.7             491237            459277   \n",
       "9                     41.1             220501            469615   \n",
       "\n",
       "   Medicaid by Expansion  Year  \n",
       "0                  28091  2019  \n",
       "1                  26392  2019  \n",
       "2                   6984  2019  \n",
       "3                  42649  2019  \n",
       "4                  34722  2019  \n",
       "5                  27344  2018  \n",
       "6                  25571  2018  \n",
       "7                   8908  2018  \n",
       "8                  46267  2018  \n",
       "9                  33452  2018  >"
      ]
     },
     "execution_count": 48,
     "metadata": {},
     "output_type": "execute_result"
    }
   ],
   "source": [
    "df.describe"
   ]
  },
  {
   "cell_type": "code",
   "execution_count": 43,
   "metadata": {
    "scrolled": true
   },
   "outputs": [
    {
     "data": {
      "text/html": [
       "<div>\n",
       "<style scoped>\n",
       "    .dataframe tbody tr th:only-of-type {\n",
       "        vertical-align: middle;\n",
       "    }\n",
       "\n",
       "    .dataframe tbody tr th {\n",
       "        vertical-align: top;\n",
       "    }\n",
       "\n",
       "    .dataframe thead th {\n",
       "        text-align: right;\n",
       "    }\n",
       "</style>\n",
       "<table border=\"1\" class=\"dataframe\">\n",
       "  <thead>\n",
       "    <tr style=\"text-align: right;\">\n",
       "      <th></th>\n",
       "      <th>Borough</th>\n",
       "      <th>Average Income, M Yes</th>\n",
       "      <th>Average Income M, No</th>\n",
       "      <th>Population On Medicaid</th>\n",
       "      <th>Population Not Medicaid</th>\n",
       "      <th>White Yes Medicaid</th>\n",
       "      <th>White No Medicaid</th>\n",
       "      <th>Black Yes Medicaid</th>\n",
       "      <th>Black No Medicaid</th>\n",
       "      <th>Asian Yes Medicaid</th>\n",
       "      <th>Asian No Medicaid</th>\n",
       "      <th>Two or More Races Yes Medicaid</th>\n",
       "      <th>Two or More Races No Medicaid</th>\n",
       "      <th>Average Age Yes Medicaid</th>\n",
       "      <th>Average Age No Medicaid</th>\n",
       "      <th>Medicaid and SNAP</th>\n",
       "      <th>Medicaid No SNAP</th>\n",
       "      <th>Medicaid by Expansion</th>\n",
       "      <th>Medicaid by expansion</th>\n",
       "    </tr>\n",
       "  </thead>\n",
       "  <tbody>\n",
       "    <tr>\n",
       "      <th>0</th>\n",
       "      <td>Bronx</td>\n",
       "      <td>4229.7</td>\n",
       "      <td>31876.9</td>\n",
       "      <td>676556</td>\n",
       "      <td>740655</td>\n",
       "      <td>130773</td>\n",
       "      <td>191251</td>\n",
       "      <td>544969</td>\n",
       "      <td>253094</td>\n",
       "      <td>21243</td>\n",
       "      <td>31485</td>\n",
       "      <td>25108</td>\n",
       "      <td>31968</td>\n",
       "      <td>33.4</td>\n",
       "      <td>40.1</td>\n",
       "      <td>392952</td>\n",
       "      <td>283604</td>\n",
       "      <td>28091.0</td>\n",
       "      <td>NaN</td>\n",
       "    </tr>\n",
       "    <tr>\n",
       "      <th>1</th>\n",
       "      <td>Manhattan</td>\n",
       "      <td>20898.6</td>\n",
       "      <td>84734.2</td>\n",
       "      <td>343560</td>\n",
       "      <td>1285542</td>\n",
       "      <td>95286</td>\n",
       "      <td>830559</td>\n",
       "      <td>95610</td>\n",
       "      <td>138912</td>\n",
       "      <td>41264</td>\n",
       "      <td>162677</td>\n",
       "      <td>19264</td>\n",
       "      <td>49111</td>\n",
       "      <td>47.0</td>\n",
       "      <td>39.1</td>\n",
       "      <td>168214</td>\n",
       "      <td>175346</td>\n",
       "      <td>26392.0</td>\n",
       "      <td>NaN</td>\n",
       "    </tr>\n",
       "    <tr>\n",
       "      <th>2</th>\n",
       "      <td>Staten Island</td>\n",
       "      <td>8448.0</td>\n",
       "      <td>44456.7</td>\n",
       "      <td>441963</td>\n",
       "      <td>1663693</td>\n",
       "      <td>59752</td>\n",
       "      <td>292125</td>\n",
       "      <td>16146</td>\n",
       "      <td>29639</td>\n",
       "      <td>16049</td>\n",
       "      <td>36203</td>\n",
       "      <td>1000</td>\n",
       "      <td>8411</td>\n",
       "      <td>36.3</td>\n",
       "      <td>41.3</td>\n",
       "      <td>31234</td>\n",
       "      <td>67169</td>\n",
       "      <td>6984.0</td>\n",
       "      <td>NaN</td>\n",
       "    </tr>\n",
       "    <tr>\n",
       "      <th>3</th>\n",
       "      <td>Brooklyn</td>\n",
       "      <td>6378.3</td>\n",
       "      <td>48417.2</td>\n",
       "      <td>941099</td>\n",
       "      <td>1618472</td>\n",
       "      <td>364568</td>\n",
       "      <td>751589</td>\n",
       "      <td>310166</td>\n",
       "      <td>508185</td>\n",
       "      <td>136547</td>\n",
       "      <td>166510</td>\n",
       "      <td>320238</td>\n",
       "      <td>62429</td>\n",
       "      <td>34.7</td>\n",
       "      <td>39.6</td>\n",
       "      <td>447455</td>\n",
       "      <td>493644</td>\n",
       "      <td>42649.0</td>\n",
       "      <td>NaN</td>\n",
       "    </tr>\n",
       "    <tr>\n",
       "      <th>4</th>\n",
       "      <td>Queens</td>\n",
       "      <td>8967.4</td>\n",
       "      <td>40524.9</td>\n",
       "      <td>664385</td>\n",
       "      <td>1589221</td>\n",
       "      <td>193109</td>\n",
       "      <td>638204</td>\n",
       "      <td>117677</td>\n",
       "      <td>296491</td>\n",
       "      <td>203212</td>\n",
       "      <td>387340</td>\n",
       "      <td>20801</td>\n",
       "      <td>59815</td>\n",
       "      <td>37.3</td>\n",
       "      <td>41.5</td>\n",
       "      <td>196809</td>\n",
       "      <td>467576</td>\n",
       "      <td>34722.0</td>\n",
       "      <td>NaN</td>\n",
       "    </tr>\n",
       "  </tbody>\n",
       "</table>\n",
       "</div>"
      ],
      "text/plain": [
       "         Borough  Average Income, M Yes  Average Income M, No  \\\n",
       "0          Bronx                 4229.7               31876.9   \n",
       "1      Manhattan                20898.6               84734.2   \n",
       "2  Staten Island                 8448.0               44456.7   \n",
       "3       Brooklyn                 6378.3               48417.2   \n",
       "4         Queens                 8967.4               40524.9   \n",
       "\n",
       "   Population On Medicaid  Population Not Medicaid  White Yes Medicaid  \\\n",
       "0                  676556                   740655              130773   \n",
       "1                  343560                  1285542               95286   \n",
       "2                  441963                  1663693               59752   \n",
       "3                  941099                  1618472              364568   \n",
       "4                  664385                  1589221              193109   \n",
       "\n",
       "   White No Medicaid  Black Yes Medicaid  Black No Medicaid  \\\n",
       "0             191251              544969             253094   \n",
       "1             830559               95610             138912   \n",
       "2             292125               16146              29639   \n",
       "3             751589              310166             508185   \n",
       "4             638204              117677             296491   \n",
       "\n",
       "   Asian Yes Medicaid  Asian No Medicaid  Two or More Races Yes Medicaid  \\\n",
       "0               21243              31485                           25108   \n",
       "1               41264             162677                           19264   \n",
       "2               16049              36203                            1000   \n",
       "3              136547             166510                          320238   \n",
       "4              203212             387340                           20801   \n",
       "\n",
       "   Two or More Races No Medicaid  Average Age Yes Medicaid  \\\n",
       "0                          31968                      33.4   \n",
       "1                          49111                      47.0   \n",
       "2                           8411                      36.3   \n",
       "3                          62429                      34.7   \n",
       "4                          59815                      37.3   \n",
       "\n",
       "   Average Age No Medicaid  Medicaid and SNAP  Medicaid No SNAP  \\\n",
       "0                     40.1             392952            283604   \n",
       "1                     39.1             168214            175346   \n",
       "2                     41.3              31234             67169   \n",
       "3                     39.6             447455            493644   \n",
       "4                     41.5             196809            467576   \n",
       "\n",
       "   Medicaid by Expansion  Medicaid by expansion  \n",
       "0                28091.0                    NaN  \n",
       "1                26392.0                    NaN  \n",
       "2                 6984.0                    NaN  \n",
       "3                42649.0                    NaN  \n",
       "4                34722.0                    NaN  "
      ]
     },
     "execution_count": 43,
     "metadata": {},
     "output_type": "execute_result"
    }
   ],
   "source": []
  },
  {
   "cell_type": "code",
   "execution_count": 81,
   "metadata": {},
   "outputs": [
    {
     "data": {
      "image/png": "[encoded data removed]",
      "text/plain": [
       "<Figure size 432x288 with 1 Axes>"
      ]
     },
     "metadata": {
      "needs_background": "light"
     },
     "output_type": "display_data"
    }
   ],
   "source": [
    "sns.barplot(x='Borough', y='Average Income, M Yes', hue='Year', data=df)\n",
    "plt.ylabel('Average Income for Medicaid Recipients')\n",
    "plt.xlabel('NYC Borough')\n",
    "plt.title('Average Income of Medicaid Recipients by Borough')\n",
    "plt.savefig('Average Income Medicaid Population 2012-2019.png')"
   ]
  },
  {
   "cell_type": "code",
   "execution_count": 83,
   "metadata": {},
   "outputs": [
    {
     "data": {
      "image/png": "[encoded data removed]",
      "text/plain": [
       "<Figure size 432x288 with 1 Axes>"
      ]
     },
     "metadata": {
      "needs_background": "light"
     },
     "output_type": "display_data"
    }
   ],
   "source": [
    "sns.barplot(x='Borough', y='Population On Medicaid', hue='Year', data=df)\n",
    "plt.ylabel('Medicaid Recipients')\n",
    "plt.xlabel('NYC Borough')\n",
    "plt.title('Number Medicaid Recipients by Borough')\n",
    "plt.legend(bbox_to_anchor=(1.05, 1), loc=2, borderaxespad=0.)\n",
    "plt.savefig('Medicaid Population 2012-2019.png', bbox_inches='tight')"
   ]
  },
  {
   "cell_type": "code",
   "execution_count": 80,
   "metadata": {},
   "outputs": [
    {
     "data": {
      "text/plain": [
       "Text(0.5, 1.0, 'Average Income of Medicaid Recipients by Borough')"
      ]
     },
     "execution_count": 80,
     "metadata": {},
     "output_type": "execute_result"
    },
    {
     "data": {
      "image/png": "[encoded data removed]",
      "text/plain": [
       "<Figure size 432x288 with 1 Axes>"
      ]
     },
     "metadata": {
      "needs_background": "light"
     },
     "output_type": "display_data"
    }
   ],
   "source": [
    "sns.barplot(x='Borough', y='Average Income M, No', hue='Year', data=df)\n",
    "plt.ylabel('Average Income for Medicaid Recipients')\n",
    "plt.xlabel('NYC Borough')\n",
    "plt.title('Average Income of Medicaid Recipients by Borough')"
   ]
  },
  {
   "cell_type": "code",
   "execution_count": 25,
   "metadata": {},
   "outputs": [],
   "source": [
    "def plotter(year):\n",
    "    # query database\n",
    "    # load into pandas\n",
    "    # clean\n",
    "    # plot\n",
    "    # save plots"
   ]
  },
  {
   "cell_type": "code",
   "execution_count": 26,
   "metadata": {},
   "outputs": [
    {
     "data": {
      "text/plain": [
       "81"
      ]
     },
     "execution_count": 26,
     "metadata": {},
     "output_type": "execute_result"
    }
   ],
   "source": [
    "square(9)"
   ]
  },
  {
   "cell_type": "code",
   "execution_count": 27,
   "metadata": {},
   "outputs": [],
   "source": [
    "years = range(2002,2018)"
   ]
  },
  {
   "cell_type": "code",
   "execution_count": 29,
   "metadata": {},
   "outputs": [
    {
     "name": "stdout",
     "output_type": "stream",
     "text": [
      "2002\n",
      "2003\n",
      "2004\n",
      "2005\n",
      "2006\n",
      "2007\n",
      "2008\n",
      "2009\n",
      "2010\n",
      "2011\n",
      "2012\n",
      "2013\n",
      "2014\n",
      "2015\n",
      "2016\n",
      "2017\n"
     ]
    }
   ],
   "source": [
    "for year in years:\n",
    "    plotter(year)"
   ]
  },
  {
   "cell_type": "code",
   "execution_count": null,
   "metadata": {},
   "outputs": [],
   "source": []
  }
 ],
 "metadata": {
  "kernelspec": {
   "display_name": "env",
   "language": "python",
   "name": "env"
  },
  "language_info": {
   "codemirror_mode": {
    "name": "ipython",
    "version": 3
   },
   "file_extension": ".py",
   "mimetype": "text/x-python",
   "name": "python",
   "nbconvert_exporter": "python",
   "pygments_lexer": "ipython3",
   "version": "3.9.5"
  }
 },
 "nbformat": 4,
 "nbformat_minor": 4
}
