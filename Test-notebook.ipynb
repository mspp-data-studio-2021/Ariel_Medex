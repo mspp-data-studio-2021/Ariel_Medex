{
 "cells": [
  {
   "cell_type": "code",
   "execution_count": 1,
   "metadata": {},
   "outputs": [],
   "source": [
    "import pandas as pd"
   ]
  },
  {
   "cell_type": "code",
   "execution_count": 8,
   "metadata": {},
   "outputs": [
    {
     "data": {
      "text/plain": [
       "<function print>"
      ]
     },
     "execution_count": 8,
     "metadata": {},
     "output_type": "execute_result"
    }
   ],
   "source": [
    "df = pd.read_csv('/Users/Ariel/Desktop/pppub19.csv')\n",
    "\n",
    "print"
   ]
  },
  {
   "cell_type": "code",
   "execution_count": 9,
   "metadata": {},
   "outputs": [
    {
     "data": {
      "text/plain": [
       "Index(['PERIDNUM', 'GESTCEN', 'PH_SEQ', 'GTCBSA', 'P_SEQ', 'A_LINENO',\n",
       "       'PF_SEQ', 'PHF_SEQ', 'OED_TYP1', 'OED_TYP2',\n",
       "       ...\n",
       "       'I_DISVL1', 'I_DISVL2', 'I_SURVL1', 'I_SURVL2', 'MIG_CBST', 'MIG_DSCP',\n",
       "       'DEP_STAT', 'FILEDATE', 'FILESTAT', 'MMYY'],\n",
       "      dtype='object', length=799)"
      ]
     },
     "execution_count": 9,
     "metadata": {},
     "output_type": "execute_result"
    }
   ],
   "source": [
    "df.columns"
   ]
  },
  {
   "cell_type": "code",
   "execution_count": 10,
   "metadata": {},
   "outputs": [
    {
     "data": {
      "text/html": [
       "<div>\n",
       "<style scoped>\n",
       "    .dataframe tbody tr th:only-of-type {\n",
       "        vertical-align: middle;\n",
       "    }\n",
       "\n",
       "    .dataframe tbody tr th {\n",
       "        vertical-align: top;\n",
       "    }\n",
       "\n",
       "    .dataframe thead th {\n",
       "        text-align: right;\n",
       "    }\n",
       "</style>\n",
       "<table border=\"1\" class=\"dataframe\">\n",
       "  <thead>\n",
       "    <tr style=\"text-align: right;\">\n",
       "      <th></th>\n",
       "      <th>PERIDNUM</th>\n",
       "      <th>GESTCEN</th>\n",
       "      <th>PH_SEQ</th>\n",
       "      <th>GTCBSA</th>\n",
       "      <th>P_SEQ</th>\n",
       "      <th>A_LINENO</th>\n",
       "      <th>PF_SEQ</th>\n",
       "      <th>PHF_SEQ</th>\n",
       "      <th>OED_TYP1</th>\n",
       "      <th>OED_TYP2</th>\n",
       "      <th>...</th>\n",
       "      <th>I_DISVL1</th>\n",
       "      <th>I_DISVL2</th>\n",
       "      <th>I_SURVL1</th>\n",
       "      <th>I_SURVL2</th>\n",
       "      <th>MIG_CBST</th>\n",
       "      <th>MIG_DSCP</th>\n",
       "      <th>DEP_STAT</th>\n",
       "      <th>FILEDATE</th>\n",
       "      <th>FILESTAT</th>\n",
       "      <th>MMYY</th>\n",
       "    </tr>\n",
       "  </thead>\n",
       "  <tbody>\n",
       "    <tr>\n",
       "      <th>0</th>\n",
       "      <td>0100069124539430801101</td>\n",
       "      <td>11</td>\n",
       "      <td>4</td>\n",
       "      <td>0</td>\n",
       "      <td>1</td>\n",
       "      <td>1</td>\n",
       "      <td>1</td>\n",
       "      <td>1</td>\n",
       "      <td>0</td>\n",
       "      <td>0</td>\n",
       "      <td>...</td>\n",
       "      <td>0</td>\n",
       "      <td>0</td>\n",
       "      <td>0</td>\n",
       "      <td>0</td>\n",
       "      <td>0</td>\n",
       "      <td>0</td>\n",
       "      <td>0</td>\n",
       "      <td>110419</td>\n",
       "      <td>5</td>\n",
       "      <td>32019</td>\n",
       "    </tr>\n",
       "    <tr>\n",
       "      <th>1</th>\n",
       "      <td>3999403901610020901101</td>\n",
       "      <td>11</td>\n",
       "      <td>6</td>\n",
       "      <td>0</td>\n",
       "      <td>1</td>\n",
       "      <td>1</td>\n",
       "      <td>1</td>\n",
       "      <td>1</td>\n",
       "      <td>0</td>\n",
       "      <td>0</td>\n",
       "      <td>...</td>\n",
       "      <td>0</td>\n",
       "      <td>0</td>\n",
       "      <td>0</td>\n",
       "      <td>0</td>\n",
       "      <td>0</td>\n",
       "      <td>0</td>\n",
       "      <td>0</td>\n",
       "      <td>110419</td>\n",
       "      <td>5</td>\n",
       "      <td>32019</td>\n",
       "    </tr>\n",
       "    <tr>\n",
       "      <th>2</th>\n",
       "      <td>9119340093206090901101</td>\n",
       "      <td>11</td>\n",
       "      <td>7</td>\n",
       "      <td>0</td>\n",
       "      <td>1</td>\n",
       "      <td>1</td>\n",
       "      <td>1</td>\n",
       "      <td>1</td>\n",
       "      <td>0</td>\n",
       "      <td>0</td>\n",
       "      <td>...</td>\n",
       "      <td>0</td>\n",
       "      <td>0</td>\n",
       "      <td>0</td>\n",
       "      <td>0</td>\n",
       "      <td>0</td>\n",
       "      <td>0</td>\n",
       "      <td>0</td>\n",
       "      <td>110419</td>\n",
       "      <td>5</td>\n",
       "      <td>32019</td>\n",
       "    </tr>\n",
       "    <tr>\n",
       "      <th>3</th>\n",
       "      <td>1410320300969990901101</td>\n",
       "      <td>11</td>\n",
       "      <td>8</td>\n",
       "      <td>0</td>\n",
       "      <td>1</td>\n",
       "      <td>1</td>\n",
       "      <td>1</td>\n",
       "      <td>1</td>\n",
       "      <td>0</td>\n",
       "      <td>0</td>\n",
       "      <td>...</td>\n",
       "      <td>0</td>\n",
       "      <td>0</td>\n",
       "      <td>0</td>\n",
       "      <td>0</td>\n",
       "      <td>0</td>\n",
       "      <td>0</td>\n",
       "      <td>0</td>\n",
       "      <td>110419</td>\n",
       "      <td>6</td>\n",
       "      <td>32019</td>\n",
       "    </tr>\n",
       "    <tr>\n",
       "      <th>4</th>\n",
       "      <td>1410320300969990901102</td>\n",
       "      <td>11</td>\n",
       "      <td>8</td>\n",
       "      <td>0</td>\n",
       "      <td>2</td>\n",
       "      <td>2</td>\n",
       "      <td>1</td>\n",
       "      <td>1</td>\n",
       "      <td>0</td>\n",
       "      <td>0</td>\n",
       "      <td>...</td>\n",
       "      <td>0</td>\n",
       "      <td>0</td>\n",
       "      <td>0</td>\n",
       "      <td>0</td>\n",
       "      <td>0</td>\n",
       "      <td>0</td>\n",
       "      <td>0</td>\n",
       "      <td>110419</td>\n",
       "      <td>5</td>\n",
       "      <td>32019</td>\n",
       "    </tr>\n",
       "  </tbody>\n",
       "</table>\n",
       "<p>5 rows × 799 columns</p>\n",
       "</div>"
      ],
      "text/plain": [
       "                 PERIDNUM  GESTCEN  PH_SEQ  GTCBSA  P_SEQ  A_LINENO  PF_SEQ  \\\n",
       "0  0100069124539430801101       11       4       0      1         1       1   \n",
       "1  3999403901610020901101       11       6       0      1         1       1   \n",
       "2  9119340093206090901101       11       7       0      1         1       1   \n",
       "3  1410320300969990901101       11       8       0      1         1       1   \n",
       "4  1410320300969990901102       11       8       0      2         2       1   \n",
       "\n",
       "   PHF_SEQ  OED_TYP1  OED_TYP2  ...  I_DISVL1  I_DISVL2  I_SURVL1  I_SURVL2  \\\n",
       "0        1         0         0  ...         0         0         0         0   \n",
       "1        1         0         0  ...         0         0         0         0   \n",
       "2        1         0         0  ...         0         0         0         0   \n",
       "3        1         0         0  ...         0         0         0         0   \n",
       "4        1         0         0  ...         0         0         0         0   \n",
       "\n",
       "   MIG_CBST  MIG_DSCP  DEP_STAT  FILEDATE  FILESTAT   MMYY  \n",
       "0         0         0         0    110419         5  32019  \n",
       "1         0         0         0    110419         5  32019  \n",
       "2         0         0         0    110419         5  32019  \n",
       "3         0         0         0    110419         6  32019  \n",
       "4         0         0         0    110419         5  32019  \n",
       "\n",
       "[5 rows x 799 columns]"
      ]
     },
     "execution_count": 10,
     "metadata": {},
     "output_type": "execute_result"
    }
   ],
   "source": [
    "df.head()"
   ]
  },
  {
   "cell_type": "code",
   "execution_count": 12,
   "metadata": {},
   "outputs": [],
   "source": [
    "df_aces_some_cols = pd.read_csv(\"/Users/Ariel/Desktop/pppub19.csv\", usecols= ['PERIDNUM', 'A_AGE', 'A_SEX','PRCITSHP', 'PRDTRACE', 'A_MJOCC', 'A_WKSTAT', 'ERN_SRCE', 'PTOT_R', 'MCAID', 'CAID'])"
   ]
  },
  {
   "cell_type": "code",
   "execution_count": 14,
   "metadata": {},
   "outputs": [
    {
     "data": {
      "text/html": [
       "<div>\n",
       "<style scoped>\n",
       "    .dataframe tbody tr th:only-of-type {\n",
       "        vertical-align: middle;\n",
       "    }\n",
       "\n",
       "    .dataframe tbody tr th {\n",
       "        vertical-align: top;\n",
       "    }\n",
       "\n",
       "    .dataframe thead th {\n",
       "        text-align: right;\n",
       "    }\n",
       "</style>\n",
       "<table border=\"1\" class=\"dataframe\">\n",
       "  <thead>\n",
       "    <tr style=\"text-align: right;\">\n",
       "      <th></th>\n",
       "      <th>PERIDNUM</th>\n",
       "      <th>PRDTRACE</th>\n",
       "      <th>PRCITSHP</th>\n",
       "      <th>A_AGE</th>\n",
       "      <th>A_SEX</th>\n",
       "      <th>A_MJOCC</th>\n",
       "      <th>A_WKSTAT</th>\n",
       "      <th>CAID</th>\n",
       "      <th>ERN_SRCE</th>\n",
       "      <th>MCAID</th>\n",
       "      <th>PTOT_R</th>\n",
       "    </tr>\n",
       "  </thead>\n",
       "  <tbody>\n",
       "    <tr>\n",
       "      <th>0</th>\n",
       "      <td>0100069124539430801101</td>\n",
       "      <td>1</td>\n",
       "      <td>1</td>\n",
       "      <td>21</td>\n",
       "      <td>1</td>\n",
       "      <td>3</td>\n",
       "      <td>4</td>\n",
       "      <td>2</td>\n",
       "      <td>1</td>\n",
       "      <td>2</td>\n",
       "      <td>8</td>\n",
       "    </tr>\n",
       "    <tr>\n",
       "      <th>1</th>\n",
       "      <td>3999403901610020901101</td>\n",
       "      <td>1</td>\n",
       "      <td>1</td>\n",
       "      <td>85</td>\n",
       "      <td>2</td>\n",
       "      <td>0</td>\n",
       "      <td>1</td>\n",
       "      <td>2</td>\n",
       "      <td>0</td>\n",
       "      <td>2</td>\n",
       "      <td>9</td>\n",
       "    </tr>\n",
       "    <tr>\n",
       "      <th>2</th>\n",
       "      <td>9119340093206090901101</td>\n",
       "      <td>1</td>\n",
       "      <td>1</td>\n",
       "      <td>61</td>\n",
       "      <td>2</td>\n",
       "      <td>3</td>\n",
       "      <td>2</td>\n",
       "      <td>2</td>\n",
       "      <td>1</td>\n",
       "      <td>2</td>\n",
       "      <td>5</td>\n",
       "    </tr>\n",
       "    <tr>\n",
       "      <th>3</th>\n",
       "      <td>1410320300969990901101</td>\n",
       "      <td>1</td>\n",
       "      <td>1</td>\n",
       "      <td>73</td>\n",
       "      <td>2</td>\n",
       "      <td>0</td>\n",
       "      <td>1</td>\n",
       "      <td>1</td>\n",
       "      <td>0</td>\n",
       "      <td>1</td>\n",
       "      <td>5</td>\n",
       "    </tr>\n",
       "    <tr>\n",
       "      <th>4</th>\n",
       "      <td>1410320300969990901102</td>\n",
       "      <td>1</td>\n",
       "      <td>1</td>\n",
       "      <td>37</td>\n",
       "      <td>1</td>\n",
       "      <td>3</td>\n",
       "      <td>4</td>\n",
       "      <td>2</td>\n",
       "      <td>1</td>\n",
       "      <td>2</td>\n",
       "      <td>5</td>\n",
       "    </tr>\n",
       "  </tbody>\n",
       "</table>\n",
       "</div>"
      ],
      "text/plain": [
       "                 PERIDNUM  PRDTRACE  PRCITSHP  A_AGE  A_SEX  A_MJOCC  \\\n",
       "0  0100069124539430801101         1         1     21      1        3   \n",
       "1  3999403901610020901101         1         1     85      2        0   \n",
       "2  9119340093206090901101         1         1     61      2        3   \n",
       "3  1410320300969990901101         1         1     73      2        0   \n",
       "4  1410320300969990901102         1         1     37      1        3   \n",
       "\n",
       "   A_WKSTAT  CAID  ERN_SRCE  MCAID  PTOT_R  \n",
       "0         4     2         1      2       8  \n",
       "1         1     2         0      2       9  \n",
       "2         2     2         1      2       5  \n",
       "3         1     1         0      1       5  \n",
       "4         4     2         1      2       5  "
      ]
     },
     "execution_count": 14,
     "metadata": {},
     "output_type": "execute_result"
    }
   ],
   "source": [
    "df_aces_some_cols.head()"
   ]
  },
  {
   "cell_type": "code",
   "execution_count": 16,
   "metadata": {},
   "outputs": [
    {
     "name": "stdout",
     "output_type": "stream",
     "text": [
      "range is 85\n"
     ]
    }
   ],
   "source": [
    "print(\"range is\", df_aces_some_cols.A_AGE.max()-df_aces_some_cols.A_AGE.min())"
   ]
  },
  {
   "cell_type": "code",
   "execution_count": 18,
   "metadata": {},
   "outputs": [
    {
     "data": {
      "text/plain": [
       "0"
      ]
     },
     "execution_count": 18,
     "metadata": {},
     "output_type": "execute_result"
    }
   ],
   "source": [
    "df_aces_some_cols.A_AGE.min()"
   ]
  },
  {
   "cell_type": "code",
   "execution_count": 19,
   "metadata": {},
   "outputs": [
    {
     "data": {
      "text/plain": [
       "85"
      ]
     },
     "execution_count": 19,
     "metadata": {},
     "output_type": "execute_result"
    }
   ],
   "source": [
    "df_aces_some_cols.A_AGE.max()"
   ]
  },
  {
   "cell_type": "code",
   "execution_count": 20,
   "metadata": {},
   "outputs": [
    {
     "data": {
      "text/plain": [
       "37.258305062159565"
      ]
     },
     "execution_count": 20,
     "metadata": {},
     "output_type": "execute_result"
    }
   ],
   "source": [
    "df['A_AGE'].mean()"
   ]
  },
  {
   "cell_type": "code",
   "execution_count": 22,
   "metadata": {},
   "outputs": [
    {
     "ename": "SyntaxError",
     "evalue": "invalid syntax (<ipython-input-22-1e278d99b63f>, line 1)",
     "output_type": "error",
     "traceback": [
      "\u001b[0;36m  File \u001b[0;32m\"<ipython-input-22-1e278d99b63f>\"\u001b[0;36m, line \u001b[0;32m1\u001b[0m\n\u001b[0;31m    df['MCAID' = 1].count()\u001b[0m\n\u001b[0m               ^\u001b[0m\n\u001b[0;31mSyntaxError\u001b[0m\u001b[0;31m:\u001b[0m invalid syntax\n"
     ]
    }
   ],
   "source": []
  },
  {
   "cell_type": "code",
   "execution_count": null,
   "metadata": {},
   "outputs": [],
   "source": []
  }
 ],
 "metadata": {
  "kernelspec": {
   "display_name": "env",
   "language": "python",
   "name": "env"
  },
  "language_info": {
   "codemirror_mode": {
    "name": "ipython",
    "version": 3
   },
   "file_extension": ".py",
   "mimetype": "text/x-python",
   "name": "python",
   "nbconvert_exporter": "python",
   "pygments_lexer": "ipython3",
   "version": "3.9.5"
  }
 },
 "nbformat": 4,
 "nbformat_minor": 5
}
